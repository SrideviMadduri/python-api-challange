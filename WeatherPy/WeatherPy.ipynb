{
 "cells": [
  {
   "cell_type": "markdown",
   "metadata": {},
   "source": [
    "# WeatherPy\n",
    "----\n",
    "\n",
    "#### Note\n",
    "* Instructions have been included for each segment. You do not have to follow them exactly, but they are included to help you think through the steps."
   ]
  },
  {
   "cell_type": "code",
   "execution_count": 1,
   "metadata": {
    "scrolled": true
   },
   "outputs": [],
   "source": [
    "# Dependencies and Setup\n",
    "import matplotlib.pyplot as plt\n",
    "import pandas as pd\n",
    "import numpy as np\n",
    "import requests\n",
    "import time\n",
    "from scipy.stats import linregress\n",
    "from pprint import pprint\n",
    "\n",
    "# Import API key\n",
    "from api_keys import weather_api_key\n",
    "\n",
    "# Incorporated citipy to determine city based on latitude and longitude\n",
    "from citipy import citipy\n",
    "\n",
    "# Output File (CSV)\n",
    "output_data_file = \"output_data/cities.csv\"\n",
    "\n",
    "# Range of latitudes and longitudes\n",
    "lat_range = (-90, 90)\n",
    "lng_range = (-180, 180)"
   ]
  },
  {
   "cell_type": "code",
   "execution_count": 2,
   "metadata": {},
   "outputs": [
    {
     "name": "stdout",
     "output_type": "stream",
     "text": [
      "6c83c09f0f63f5bb20e50a712176b3df\n"
     ]
    }
   ],
   "source": [
    "print(weather_api_key)"
   ]
  },
  {
   "cell_type": "markdown",
   "metadata": {},
   "source": [
    "## Generate Cities List"
   ]
  },
  {
   "cell_type": "code",
   "execution_count": 3,
   "metadata": {},
   "outputs": [
    {
     "data": {
      "text/plain": [
       "589"
      ]
     },
     "execution_count": 3,
     "metadata": {},
     "output_type": "execute_result"
    }
   ],
   "source": [
    "# List for holding lat_lngs and cities\n",
    "lat_lngs = []\n",
    "cities = []\n",
    "\n",
    "# Create a set of random lat and lng combinations\n",
    "lats = np.random.uniform(lat_range[0], lat_range[1], size=1500)\n",
    "lngs = np.random.uniform(lng_range[0], lng_range[1], size=1500)\n",
    "lat_lngs = zip(lats, lngs)\n",
    "\n",
    "# Identify nearest city for each lat, lng combination\n",
    "for lat_lng in lat_lngs:\n",
    "    city = citipy.nearest_city(lat_lng[0], lat_lng[1]).city_name\n",
    "    \n",
    "    # If the city is unique, then add it to a our cities list\n",
    "    if city not in cities:\n",
    "        cities.append(city)\n",
    "\n",
    "# Print the city count to confirm sufficient count\n",
    "len(cities)"
   ]
  },
  {
   "cell_type": "markdown",
   "metadata": {},
   "source": [
    "### Perform API Calls\n",
    "* Perform a weather check on each city using a series of successive API calls.\n",
    "* Include a print log of each city as it'sbeing processed (with the city number and city name).\n"
   ]
  },
  {
   "cell_type": "code",
   "execution_count": 4,
   "metadata": {},
   "outputs": [
    {
     "name": "stdout",
     "output_type": "stream",
     "text": [
      "[69.4541, -23.1203, -33.9258, 62.2266, -33.0153, 17.0151, -21.4803, -46.1927, -21.2, 64.5011, 20.2833, 52.6292, 13.2167, 27.3167, 20.5083, -33.65, 40.5982, 5.312, -6.0911, 59.7, 65.6145, 65.9702, -53.15, -35.3333, 69.7008, -18.5278, 10.9184, 0.5412, 19.8, -46.6, 70.6333, 57.0531, 64.3833, -0.6, 1.3292, 38.5167, 42.2506, 19.8, 4.9333, -46.2817, -54.8, -37.6167, -23.865, 43.213, 39.1502, -24.8667, 8.0777, 66.5, 63.7506, 46.6166, 42.6001, 50.6789, 62.6683, -20.5167, -33.918, -1.7625, 31.3141, -38.0023, -0.7393, 35.7333, -2.5744, -3.8004, 11.2833, -19.0047, 51.226, 48.0056, 25.1167, 44.7667, 38.8876, 8.3018, 68.75, 52.3668, 35.1333, 41.3712, -23.7, 50.1001, 4.7059, 66.0449, -20.1, -17.8814, 7.5333, 14.5333, -16.4833, 43.3665, 30.15, -29.9533, 20.5022, 77.484, 57.79, 16.5167, 62.0989, 42.097, -20.3167, -45.75, -21.3585, 33.7333, 62.6667, -7.8447, -33.5906, 15.7432, 47.7941, -24.7911, -17.7333, 4.7084, -9.8, -34.5322, 27.6298, -42.8794, 63.8709, 59.7035, 44.0787, 22.0752, 13.35, 78.2186, 21.0167, -28.7667, 3.0707, 62.456, 60.7253, 64.2539, 41.0748, -23.1333, -31.4333, 73.5069, 6.1241, 11.1373, 68.0531, -34.4187, -33.4569, 38.421, -22.6667, 6.4965, 29.1081, 30.4833, -31.95, 60.9167, 72.7868, -25.2406, 14.05, 40.4678, -23.688, -33.6971, 41.1415, 46.1879, -17.8333, 14.55, 46.2592, 71.9167, 58.7206, 32.6667, 65.282, -20.4081, -34.5833, 26.2154, -46.1333, -2.9167, -42.7826, 19.7297, -20.2333, 60.1432, -8.9266, 34.388, 57.8406, 22.5333, -41.8697, 55.7435, -8.8368, 62.0025, 37.7799, -20.3428, -10.6167, -13.7, 63.9331, 51.8261, 62.0961, 58.5667, 45.4375, 52.9035, 27.9769, -22.2763, 63.4564, -0.9131, 5.4112, -22.116, -25.5333, 6.8206, 5.3833, 37.0881, 64.8378, 3.8146, 50.6114, -2.6833, 17.9583, 24.0934, 34.6836, 55.1667, 47.2514, 15.751, 63.8424, 62.1564, -11.2522, 28.017, 22.2855, -22.9661, -42.7167, 26.9581, 48.6499, -18.95, 25.5198, 42.0304, 41.2835, 71.6872, 47.8167, -13.8575, 19.2056, 37.3667, 37.1041, 71.9667, 7.4667, -20.7333, 34.6667, 7.9803, -0.4139, 8.7333, -33.8667, 21.4612, 4.95, 67.45, -7.05, -7.5667, 33.194, 39.1672, -38.2667, 66.9395, -10.4544, 3.3, 31.2156, 54.5163, 58.965, 37.5683, 42.5696, -22.9575, 14.2, -18.2494, -23.5333, 58.5, 36.1501, 39.1834, 9.9022, 19.75, -13.8833, -25.4, -20.0064, 22.5667, 51.4617, -41.45, -3.5403, 68.005, 3.0833, 44.0582, -0.8917, 11.7751, 16.6362, 39.8835, 40.1629, 41.0586, 14.3122, 71.2906, 18.0417, -23.35, -38.5473, 19.1059, 56.3444, -18.475, 58.2093, 50.4111, 45.5234, 8.9242, 69.2167, -21.2078, 36.6177, 42.2683, 49.758, 37.0194, -26.6481, -2.0226, -11.0964, -38.35, 46.8123, -15.7667, -5.3833, -3.7833, 45.0917, -20.3297, 70.3705, 29.9227, 66.8333, 58.8053, 9.49, 34.6391, 69.1989, 55.3422, 33.7499, 35.6225, 36.8529, -11.5192, 45.7625, 68.3065, 28.6585, 51.0333, -21.3393, 50.9833, 1.0968, -21.35, 24.6877, 38.4953, 70.4692, 51.3223, 21.1167, 47.6666, 67.6333, -41.4122, 43.3218, -32.25, 46.6806, -23.7781, 18.7333, 28.3667, 7.3667, 8.4596, 57.4028, 28.5004, -45.4167, 50.55, -9.1667, 32.2994, 25.2631, 60.7161, -8.345, 42.7762, 63.0734, -14.9783, 69.3833, 7.6994, 10.9995, 10.3997, 20.4335, -30.1811, 66, 12.6, 18.217, 63.8567, 39.5994, 65.7, 28.6478, 3.5167, 41.129, 13.2114, 47.1167, 18.3851, -35.5667, 5.7856, 40.8516, 18.2164, 70.0311, 7.9986, 64.8945, -21.15, 7.4167, 36.9665, -6.1219, 39.5151, -8.7619, -11.4386, 38.3791, -20.2078, -34.7333, 14.9215, 31.61, -29.823, 11.9333, -6.9811, 35.55, 48.4001, 66.3167, 10.5669, 55.9594, -33.0117, 12.0564, 26.8865, 29.9502, -2.2311, 9.8383, -7.9386, 11.6667, 0.5167, 18.4616, -38.3739, 17.8815, 52.7834, -0.9, 18.7369, 43.5945, 65.5333, 47.4667, -3.3667, -34.6515, 43.2686, 60.34, 46.4856, 49.4867, -15.1961, 68.2191, 31.7561, 41.7597, 19.9333, 21.3906, -1.367, 20.7, 65.5833, 26.5851, 63.8385, 20.931, -17, 51.5333, 51.6199, -14.4667, 4.1363, 32.5833, -3.5797, 14.3, 39.05, -0.9492, 63.8986, 43.826, 43.7444, 55.5281, -8.4667, -28.783, 37.7333, 14.6937, 60.7522, 13.4667, 38.7333, 53.7458, 47.9417, 43.3979, -20.2833, 25.5333, 66.1451, -45.5752, 69.3143, 25.2582, 40.8475, -4.2333, 53.1333, 40.1333, -9.6567, 46.7268, 37.5133, 14.35, -22.4114, 38.7296, 53.4106, 6.5833, 71.0357, 21.3469, 48.6814, 61.8106, 30.5667, -31.4707, -19.55, 7.3833, -30.7414, 55.6167, 32.3754, -8.3581, 40.4272, 34.2284, 25.4833, -4.1797, 61.994, -10.4, 50.5994, 47.4736, 14.8961, 45.6169, 50.5667, 41.2886, 39.4667, 46.4333, -6.2222, 54.3419, 31.2089, 58.9564, -20.0167, -22.1333, 28.963, 54.3667, 49.7502, 41.9563, 44.3525, 51.0239, -7.0253, 13.1747, -17.5, 23.306, 33.4251, 40.6576, 64.8569, 67.8006, 12.9667, 48.3746, 50.3167, 9.5201, 44.703, 38.7568, 5.9485, 49.6835, -34.4833, 45.3333, 50.0163, 30.4159, 54.7183, -45.8742, -37.8333, 30.1956, 59.4152, 32.3502, 24.3448, 64.9555, -19.1133, 43.3, 18.0384, 68.5333, 34.1478, -16.4708, 1.0002, 43.4813, -4.3878, 70.8578, 16.7833, 14.4]\n"
     ]
    }
   ],
   "source": [
    "#https://api.openweathermap.org/data/2.5/weather?q={city name}&appid={API key}\n",
    "\n",
    "url = \"https://api.openweathermap.org/data/2.5/weather?\"\n",
    "\n",
    "lattitude = []\n",
    "temperature = []\n",
    "humidity = []\n",
    "cloudiness = []\n",
    "wind_speed = []\n",
    "\n",
    "#city = \"Atlanta\"\n",
    "\n",
    "#build querry\n",
    "query_url = url + 'q=' + city +'&appid='+ weather_api_key\n",
    "\n",
    "for city in cities:\n",
    "    query_url = url + 'q=' + city +'&appid='+ weather_api_key\n",
    "\n",
    "    response = requests.get(query_url)\n",
    "    if not response.ok:\n",
    "        continue\n",
    "        \n",
    "    response = response.json()\n",
    "   # pprint(f\"The response is {response}\")\n",
    "    \n",
    "\n",
    "    lattitude.append(response['coord']['lat'])\n",
    "    \n",
    "#     #append temperature\n",
    "#     temperature.append(response['main']['temp'])\n",
    "      \n",
    "#     #append humidity\n",
    "#     humidity.append(response['main']['humidity'])\n",
    "    \n",
    "#     #append cloudiness\n",
    "#     cloudiness.append(response['clouds']['all'])\n",
    "    \n",
    "#     #append wind_speed\n",
    "#     wind_speed.append(response['wind']['speed'])\n",
    "print(lattitude)\n",
    "# print(temperature)\n",
    "# print(humidity)                                        \n",
    "# print(cloudiness)\n",
    "# print(wind_speed)                                       \n",
    "# request = requests.get(query_url)\n",
    "# request = request.json()\n",
    "# request\n",
    "#request['main']['temp'] "
   ]
  },
  {
   "cell_type": "markdown",
   "metadata": {},
   "source": [
    "### Convert Raw Data to DataFrame\n",
    "* Export the city data into a .csv.\n",
    "* Display the DataFrame"
   ]
  },
  {
   "cell_type": "code",
   "execution_count": null,
   "metadata": {},
   "outputs": [],
   "source": []
  },
  {
   "cell_type": "code",
   "execution_count": null,
   "metadata": {},
   "outputs": [],
   "source": []
  },
  {
   "cell_type": "markdown",
   "metadata": {},
   "source": [
    "## Inspect the data and remove the cities where the humidity > 100%.\n",
    "----\n",
    "Skip this step if there are no cities that have humidity > 100%. "
   ]
  },
  {
   "cell_type": "code",
   "execution_count": null,
   "metadata": {},
   "outputs": [],
   "source": []
  },
  {
   "cell_type": "code",
   "execution_count": 5,
   "metadata": {},
   "outputs": [],
   "source": [
    "#  Get the indices of cities that have humidity over 100%.\n"
   ]
  },
  {
   "cell_type": "code",
   "execution_count": 6,
   "metadata": {},
   "outputs": [],
   "source": [
    "# Make a new DataFrame equal to the city data to drop all humidity outliers by index.\n",
    "# Passing \"inplace=False\" will make a copy of the city_data DataFrame, which we call \"clean_city_data\".\n"
   ]
  },
  {
   "cell_type": "code",
   "execution_count": null,
   "metadata": {},
   "outputs": [],
   "source": [
    "\n"
   ]
  },
  {
   "cell_type": "markdown",
   "metadata": {},
   "source": [
    "## Plotting the Data\n",
    "* Use proper labeling of the plots using plot titles (including date of analysis) and axes labels.\n",
    "* Save the plotted figures as .pngs."
   ]
  },
  {
   "cell_type": "markdown",
   "metadata": {},
   "source": [
    "## Latitude vs. Temperature Plot"
   ]
  },
  {
   "cell_type": "code",
   "execution_count": null,
   "metadata": {
    "scrolled": true
   },
   "outputs": [],
   "source": []
  },
  {
   "cell_type": "markdown",
   "metadata": {},
   "source": [
    "## Latitude vs. Humidity Plot"
   ]
  },
  {
   "cell_type": "code",
   "execution_count": null,
   "metadata": {},
   "outputs": [],
   "source": []
  },
  {
   "cell_type": "markdown",
   "metadata": {},
   "source": [
    "## Latitude vs. Cloudiness Plot"
   ]
  },
  {
   "cell_type": "code",
   "execution_count": null,
   "metadata": {},
   "outputs": [],
   "source": []
  },
  {
   "cell_type": "markdown",
   "metadata": {},
   "source": [
    "## Latitude vs. Wind Speed Plot"
   ]
  },
  {
   "cell_type": "code",
   "execution_count": null,
   "metadata": {},
   "outputs": [],
   "source": []
  },
  {
   "cell_type": "markdown",
   "metadata": {},
   "source": [
    "## Linear Regression"
   ]
  },
  {
   "cell_type": "code",
   "execution_count": null,
   "metadata": {},
   "outputs": [],
   "source": []
  },
  {
   "cell_type": "markdown",
   "metadata": {},
   "source": [
    "####  Northern Hemisphere - Max Temp vs. Latitude Linear Regression"
   ]
  },
  {
   "cell_type": "code",
   "execution_count": null,
   "metadata": {},
   "outputs": [],
   "source": []
  },
  {
   "cell_type": "markdown",
   "metadata": {},
   "source": [
    "####  Southern Hemisphere - Max Temp vs. Latitude Linear Regression"
   ]
  },
  {
   "cell_type": "code",
   "execution_count": null,
   "metadata": {},
   "outputs": [],
   "source": []
  },
  {
   "cell_type": "markdown",
   "metadata": {},
   "source": [
    "####  Northern Hemisphere - Humidity (%) vs. Latitude Linear Regression"
   ]
  },
  {
   "cell_type": "code",
   "execution_count": null,
   "metadata": {},
   "outputs": [],
   "source": []
  },
  {
   "cell_type": "markdown",
   "metadata": {},
   "source": [
    "####  Southern Hemisphere - Humidity (%) vs. Latitude Linear Regression"
   ]
  },
  {
   "cell_type": "code",
   "execution_count": null,
   "metadata": {},
   "outputs": [],
   "source": []
  },
  {
   "cell_type": "markdown",
   "metadata": {},
   "source": [
    "####  Northern Hemisphere - Cloudiness (%) vs. Latitude Linear Regression"
   ]
  },
  {
   "cell_type": "code",
   "execution_count": null,
   "metadata": {},
   "outputs": [],
   "source": []
  },
  {
   "cell_type": "markdown",
   "metadata": {},
   "source": [
    "####  Southern Hemisphere - Cloudiness (%) vs. Latitude Linear Regression"
   ]
  },
  {
   "cell_type": "code",
   "execution_count": null,
   "metadata": {},
   "outputs": [],
   "source": []
  },
  {
   "cell_type": "markdown",
   "metadata": {},
   "source": [
    "####  Northern Hemisphere - Wind Speed (mph) vs. Latitude Linear Regression"
   ]
  },
  {
   "cell_type": "code",
   "execution_count": null,
   "metadata": {},
   "outputs": [],
   "source": []
  },
  {
   "cell_type": "markdown",
   "metadata": {},
   "source": [
    "####  Southern Hemisphere - Wind Speed (mph) vs. Latitude Linear Regression"
   ]
  },
  {
   "cell_type": "code",
   "execution_count": null,
   "metadata": {},
   "outputs": [],
   "source": []
  },
  {
   "cell_type": "code",
   "execution_count": null,
   "metadata": {},
   "outputs": [],
   "source": []
  }
 ],
 "metadata": {
  "anaconda-cloud": {},
  "kernel_info": {
   "name": "python3"
  },
  "kernelspec": {
   "display_name": "PythonData",
   "language": "python",
   "name": "pythondata"
  },
  "language_info": {
   "codemirror_mode": {
    "name": "ipython",
    "version": 3
   },
   "file_extension": ".py",
   "mimetype": "text/x-python",
   "name": "python",
   "nbconvert_exporter": "python",
   "pygments_lexer": "ipython3",
   "version": "3.7.7"
  },
  "latex_envs": {
   "LaTeX_envs_menu_present": true,
   "autoclose": false,
   "autocomplete": true,
   "bibliofile": "biblio.bib",
   "cite_by": "apalike",
   "current_citInitial": 1,
   "eqLabelWithNumbers": true,
   "eqNumInitial": 1,
   "hotkeys": {
    "equation": "Ctrl-E",
    "itemize": "Ctrl-I"
   },
   "labels_anchors": false,
   "latex_user_defs": false,
   "report_style_numbering": false,
   "user_envs_cfg": false
  },
  "nteract": {
   "version": "0.12.3"
  }
 },
 "nbformat": 4,
 "nbformat_minor": 2
}
